{
 "cells": [
  {
   "cell_type": "code",
   "execution_count": 4,
   "id": "1e90c983",
   "metadata": {},
   "outputs": [
    {
     "name": "stdout",
     "output_type": "stream",
     "text": [
      "12\n"
     ]
    }
   ],
   "source": [
    "\"\"\"1. Write a Python Program to find sum of array?\n",
    "ans\"\"\"\n",
    "ar=[1,2,3,6]\n",
    "ans=sum(ar)\n",
    "print(ans)"
   ]
  },
  {
   "cell_type": "code",
   "execution_count": 6,
   "id": "672ffe16",
   "metadata": {},
   "outputs": [
    {
     "name": "stdout",
     "output_type": "stream",
     "text": [
      "6\n"
     ]
    }
   ],
   "source": [
    "\"\"\"2. Write a Python Program to find largest element in an array?\n",
    "Ans\"\"\"\n",
    "\n",
    "ar=[1,2,3,6,5]\n",
    "maxi=max(ar)\n",
    "print(maxi)"
   ]
  },
  {
   "cell_type": "code",
   "execution_count": 13,
   "id": "9aed4451",
   "metadata": {},
   "outputs": [
    {
     "name": "stdout",
     "output_type": "stream",
     "text": [
      "rotated list is:\n",
      "[4, 5, 6, 9, 1, 2, 3]\n"
     ]
    }
   ],
   "source": [
    "\"\"\"3. Write a Python Program for array rotation?\n",
    "Ans\"\"\"\n",
    "\n",
    "def rotatearr(a,d):\n",
    "    n=len(a)\n",
    "    a[:]=a[d:n]+a[0:d]\n",
    "    return a\n",
    "a=[1,2,3,4,5,6,9]\n",
    "print(\"rotated list is:\")\n",
    "print(rotatearr(a,3))\n",
    "\n"
   ]
  },
  {
   "cell_type": "code",
   "execution_count": 16,
   "id": "c14e157c",
   "metadata": {},
   "outputs": [
    {
     "name": "stdout",
     "output_type": "stream",
     "text": [
      "5 6 52 36 12 10 "
     ]
    }
   ],
   "source": [
    "\"\"\"4. Write a Python Program to Split the array and add the first part to the end?\n",
    "Ans\"\"\"\n",
    "def splitArr(arr, n, k): \n",
    "    for i in range(0, k): \n",
    "        x = arr[0]\n",
    "        for j in range(0, n-1):\n",
    "            arr[j] = arr[j + 1]\n",
    "         \n",
    "        arr[n-1] = x\n",
    "         \n",
    "\n",
    "arr = [12, 10, 5, 6, 52, 36]\n",
    "n = len(arr)\n",
    "position = 2\n",
    " \n",
    "splitArr(arr, n, position)\n",
    " \n",
    "for i in range(0, n): \n",
    "    print(arr[i], end = ' ')\n"
   ]
  },
  {
   "cell_type": "code",
   "execution_count": 1,
   "id": "00635243",
   "metadata": {},
   "outputs": [
    {
     "name": "stdout",
     "output_type": "stream",
     "text": [
      "True\n"
     ]
    }
   ],
   "source": [
    "\"\"\"5. Write a Python Program to check if given array is Monotonic?\n",
    "Ans\"\"\"\n",
    "def isMonotonic(A):\n",
    "  \n",
    "    return (all(A[i] <= A[i + 1] for i in range(len(A) - 1)) or\n",
    "            all(A[i] >= A[i + 1] for i in range(len(A) - 1)))\n",
    "  \n",
    "\n",
    "A = [6, 5, 4, 4]\n",
    "print(isMonotonic(A))"
   ]
  },
  {
   "cell_type": "code",
   "execution_count": null,
   "id": "cd2dc4b9",
   "metadata": {},
   "outputs": [],
   "source": []
  }
 ],
 "metadata": {
  "kernelspec": {
   "display_name": "Python 3",
   "language": "python",
   "name": "python3"
  },
  "language_info": {
   "codemirror_mode": {
    "name": "ipython",
    "version": 3
   },
   "file_extension": ".py",
   "mimetype": "text/x-python",
   "name": "python",
   "nbconvert_exporter": "python",
   "pygments_lexer": "ipython3",
   "version": "3.8.8"
  }
 },
 "nbformat": 4,
 "nbformat_minor": 5
}
